{
 "cells": [
  {
   "cell_type": "code",
   "execution_count": null,
   "metadata": {},
   "outputs": [],
   "source": [
    "import torch\n",
    "\n",
    "from torch.nn import Sequential, RNN, Flatten\n",
    "\n",
    "from dataset import EarthSystemsDataset "
   ]
  },
  {
   "cell_type": "markdown",
   "metadata": {},
   "source": [
    "## Reccurent Neural Network (RNN)"
   ]
  },
  {
   "cell_type": "code",
   "execution_count": null,
   "metadata": {},
   "outputs": [],
   "source": [
    "def rnn_sequence1(in_size, label_size):\n",
    "    layers = [\n",
    "        RNN(in_size, in_size*2, batch_first=True, num_layers=2),\n",
    "        RNN(in_size*2, in_size*3, batch_first=True),\n",
    "        Flatten(),\n",
    "        \n",
    "\n",
    "    ]\n",
    "    return Sequential(*layers)"
   ]
  },
  {
   "cell_type": "code",
   "execution_count": null,
   "metadata": {},
   "outputs": [],
   "source": [
    "data_var_names = ['global_temp', 'electricity', 'co2', 'ch4']\n",
    "y_vals = ['temp_change']\n",
    "lags = 15\n",
    "\n",
    "data = EarthSystemsDataset(data_var_names, y_vals=y_vals, val_frac=0.1, lags=lags, mode='rnn')"
   ]
  },
  {
   "cell_type": "code",
   "execution_count": null,
   "metadata": {},
   "outputs": [],
   "source": [
    "data[0][0].shape"
   ]
  },
  {
   "cell_type": "code",
   "execution_count": null,
   "metadata": {},
   "outputs": [],
   "source": [
    "a = torch.randn(40, 15, 4)\n",
    "\n",
    "a.flatten(start_dim=1).shape"
   ]
  }
 ],
 "metadata": {
  "language_info": {
   "name": "python"
  }
 },
 "nbformat": 4,
 "nbformat_minor": 2
}
