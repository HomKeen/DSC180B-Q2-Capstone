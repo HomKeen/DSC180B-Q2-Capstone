{
 "cells": [
  {
   "cell_type": "code",
   "execution_count": 1,
   "id": "562ee12c",
   "metadata": {},
   "outputs": [],
   "source": [
    "import numpy as np\n",
    "import pandas as pd\n",
    "import matplotlib.pyplot as plt\n",
    "from scipy import stats\n",
    "\n",
    "from dataset import EarthSystemsDataset"
   ]
  },
  {
   "cell_type": "code",
   "execution_count": 2,
   "id": "b2c1af14",
   "metadata": {},
   "outputs": [],
   "source": [
    "from sklearn.gaussian_process import GaussianProcessRegressor\n",
    "from sklearn.gaussian_process.kernels import RBF\n",
    "from sklearn.gaussian_process.kernels import ConstantKernel as C\n",
    "from sklearn.gaussian_process.kernels import WhiteKernel\n",
    "\n",
    "from causallearn.utils.KCI.KCI import KCI_UInd\n",
    "\n",
    "\n",
    "class ANM(object):\n",
    "    '''\n",
    "    Python implementation of additive noise model-based causal discovery.\n",
    "    References\n",
    "    ----------\n",
    "    [1] Hoyer, Patrik O., et al. \"Nonlinear causal discovery with additive noise models.\" NIPS. Vol. 21. 2008.\n",
    "    '''\n",
    "\n",
    "    def __init__(self, kernelX='Gaussian', kernelY='Gaussian'):\n",
    "        '''\n",
    "        Construct the ANM model.\n",
    "\n",
    "        Parameters:\n",
    "        ----------\n",
    "        kernelX: kernel function for hypothetical cause\n",
    "        kernelY: kernel function for estimated noise\n",
    "        '''\n",
    "        self.kernelX = kernelX\n",
    "        self.kernelY = kernelY\n",
    "\n",
    "    def fit_gp(self, X, y):\n",
    "        '''\n",
    "        Fit a Gaussian process regression model\n",
    "\n",
    "        Parameters\n",
    "        ----------\n",
    "        X: input data (nx1)\n",
    "        y: output data (nx1)\n",
    "\n",
    "        Returns\n",
    "        --------\n",
    "        pred_y: predicted output (nx1)\n",
    "        '''\n",
    "        kernel = C(1.0, (1e-3, 1e3)) * RBF(1.0, (1e-2, 1e2)) + WhiteKernel(0.1, (1e-10, 1e+1))\n",
    "        gpr = GaussianProcessRegressor(kernel=kernel)\n",
    "\n",
    "        # fit Gaussian process, including hyperparameter optimization\n",
    "        gpr.fit(X, y)\n",
    "        pred_y = gpr.predict(X).reshape(-1, 1)\n",
    "        return pred_y\n",
    "\n",
    "    def cause_or_effect(self, data_x, data_y):\n",
    "        '''\n",
    "        Fit a GP model in two directions and test the independence between the input and estimated noise\n",
    "\n",
    "        Parameters\n",
    "        ---------\n",
    "        data_x: input data (nx1)\n",
    "        data_y: output data (nx1)\n",
    "\n",
    "        Returns\n",
    "        ---------\n",
    "        pval_forward: p value in the x->y direction\n",
    "        pval_backward: p value in the y->x direction\n",
    "        '''\n",
    "\n",
    "        # set up unconditional test\n",
    "        kci = KCI_UInd(self.kernelX, self.kernelY)\n",
    "\n",
    "        # test x->y\n",
    "        pred_y = self.fit_gp(data_x, data_y)\n",
    "        res_y = data_y - pred_y\n",
    "        pval_forward, _ = kci.compute_pvalue(data_x, res_y)\n",
    "\n",
    "        # test y->x\n",
    "        pred_x = self.fit_gp(data_y, data_x)\n",
    "        res_x = data_x - pred_x\n",
    "        pval_backward, _ = kci.compute_pvalue(data_y, res_x)\n",
    "\n",
    "        return pval_forward, pval_backward"
   ]
  },
  {
   "cell_type": "code",
   "execution_count": 3,
   "id": "a8e6ee2a",
   "metadata": {},
   "outputs": [],
   "source": [
    "data_var_names = ['global_temp', 'elec_fossil', 'elec_clean', 'co2', 'ch4', 'petroleum']\n",
    "y_vals = ['temp_change']\n",
    "lags = 15\n",
    "\n",
    "earth_data = EarthSystemsDataset(data_var_names, y_vals=y_vals, val_frac=0.1, lags=lags, mode='ann')\n",
    "earth_data.full_mode()\n",
    "# earth_data.data['index'] = list(range(earth_data.data.shape[0]))\n",
    "data = earth_data.data"
   ]
  },
  {
   "cell_type": "code",
   "execution_count": 4,
   "id": "c893936a",
   "metadata": {},
   "outputs": [],
   "source": [
    "data = data.head(100)"
   ]
  },
  {
   "cell_type": "code",
   "execution_count": 5,
   "id": "f514fb4b",
   "metadata": {},
   "outputs": [],
   "source": [
    "from sklearn.gaussian_process import GaussianProcessRegressor\n",
    "from sklearn.gaussian_process.kernels import RBF\n",
    "from sklearn.gaussian_process.kernels import ConstantKernel as C\n",
    "from sklearn.gaussian_process.kernels import WhiteKernel\n",
    "\n",
    "from causallearn.utils.KCI.KCI import KCI_UInd"
   ]
  },
  {
   "cell_type": "code",
   "execution_count": 6,
   "id": "64a74445",
   "metadata": {},
   "outputs": [],
   "source": [
    "#dc attempt\n",
    "def fit_gp(X, y):\n",
    "    kernel = C(1.0, (1e-3, 1e3)) * RBF(1.0, (1e-2, 1e2)) + WhiteKernel(0.1, (1e-10, 1e+1))\n",
    "    gpr = GaussianProcessRegressor(kernel=kernel)\n",
    "\n",
    "    # fit Gaussian process, including hyperparameter optimization\n",
    "    gpr.fit(X, y)\n",
    "    pred_y = gpr.predict(X).reshape(-1, 1)\n",
    "    return pred_y"
   ]
  },
  {
   "cell_type": "code",
   "execution_count": 7,
   "id": "c158ad7c",
   "metadata": {},
   "outputs": [],
   "source": [
    "def cause_or_effect(data_x, data_y, conf):\n",
    "    # set up unconditional test\n",
    "    kci = KCI_UInd('Gaussian', 'Gaussian')\n",
    "    \n",
    "    \n",
    "    # test x->y\n",
    "    \n",
    "    temp_x = data_x.join(conf)\n",
    "    pred_y = fit_gp(temp_x, data_y)\n",
    "    res_y = data_y - pred_y\n",
    "  \n",
    "    \n",
    "    pval_forward, _ = kci.compute_pvalue(temp_x, res_y)\n",
    "    \n",
    "\n",
    "    # test y->x\n",
    "    temp_y = data_y.join(conf)\n",
    "    pred_x = fit_gp(temp_y, data_x)\n",
    "    res_x = data_x - pred_x\n",
    "    pval_backward, _ = kci.compute_pvalue(temp_y, res_x)\n",
    "\n",
    "    \n",
    "    return pval_forward, pval_backward"
   ]
  },
  {
   "cell_type": "code",
   "execution_count": 8,
   "id": "4c5217b2",
   "metadata": {
    "scrolled": true
   },
   "outputs": [
    {
     "name": "stderr",
     "output_type": "stream",
     "text": [
      "/opt/conda/lib/python3.9/site-packages/sklearn/gaussian_process/kernels.py:411: ConvergenceWarning: The optimal value found for dimension 0 of parameter k1__k1__constant_value is close to the specified upper bound 1000.0. Increasing the bound and calling fit again may find a better value.\n",
      "  warnings.warn(\"The optimal value found for \"\n",
      "/opt/conda/lib/python3.9/site-packages/sklearn/gaussian_process/kernels.py:411: ConvergenceWarning: The optimal value found for dimension 0 of parameter k2__noise_level is close to the specified upper bound 10.0. Increasing the bound and calling fit again may find a better value.\n",
      "  warnings.warn(\"The optimal value found for \"\n",
      "/opt/conda/lib/python3.9/site-packages/sklearn/gaussian_process/kernels.py:411: ConvergenceWarning: The optimal value found for dimension 0 of parameter k1__k1__constant_value is close to the specified upper bound 1000.0. Increasing the bound and calling fit again may find a better value.\n",
      "  warnings.warn(\"The optimal value found for \"\n",
      "/opt/conda/lib/python3.9/site-packages/sklearn/gaussian_process/kernels.py:411: ConvergenceWarning: The optimal value found for dimension 0 of parameter k1__k2__length_scale is close to the specified upper bound 100.0. Increasing the bound and calling fit again may find a better value.\n",
      "  warnings.warn(\"The optimal value found for \"\n",
      "/opt/conda/lib/python3.9/site-packages/sklearn/gaussian_process/kernels.py:411: ConvergenceWarning: The optimal value found for dimension 0 of parameter k2__noise_level is close to the specified upper bound 10.0. Increasing the bound and calling fit again may find a better value.\n",
      "  warnings.warn(\"The optimal value found for \"\n"
     ]
    },
    {
     "data": {
      "text/plain": [
       "(0.06976398864681166, 0.3434892376361516)"
      ]
     },
     "execution_count": 8,
     "metadata": {},
     "output_type": "execute_result"
    }
   ],
   "source": [
    "cause_or_effect(data[['co2_average']], data[['petroleum']], data[['ch4_average', 'elec_fossil', 'elec_clean']])"
   ]
  },
  {
   "cell_type": "code",
   "execution_count": 9,
   "id": "48e07f32",
   "metadata": {},
   "outputs": [
    {
     "data": {
      "text/html": [
       "<div>\n",
       "<style scoped>\n",
       "    .dataframe tbody tr th:only-of-type {\n",
       "        vertical-align: middle;\n",
       "    }\n",
       "\n",
       "    .dataframe tbody tr th {\n",
       "        vertical-align: top;\n",
       "    }\n",
       "\n",
       "    .dataframe thead th {\n",
       "        text-align: right;\n",
       "    }\n",
       "</style>\n",
       "<table border=\"1\" class=\"dataframe\">\n",
       "  <thead>\n",
       "    <tr style=\"text-align: right;\">\n",
       "      <th></th>\n",
       "      <th></th>\n",
       "      <th>co2_average</th>\n",
       "      <th>ch4_average</th>\n",
       "      <th>elec_fossil</th>\n",
       "      <th>elec_clean</th>\n",
       "    </tr>\n",
       "    <tr>\n",
       "      <th>year</th>\n",
       "      <th>month</th>\n",
       "      <th></th>\n",
       "      <th></th>\n",
       "      <th></th>\n",
       "      <th></th>\n",
       "    </tr>\n",
       "  </thead>\n",
       "  <tbody>\n",
       "    <tr>\n",
       "      <th rowspan=\"5\" valign=\"top\">1983</th>\n",
       "      <th>Jul</th>\n",
       "      <td>342.14</td>\n",
       "      <td>1625.94</td>\n",
       "      <td>4.325726</td>\n",
       "      <td>0.345359</td>\n",
       "    </tr>\n",
       "    <tr>\n",
       "      <th>Aug</th>\n",
       "      <td>340.62</td>\n",
       "      <td>1628.06</td>\n",
       "      <td>4.710642</td>\n",
       "      <td>0.338025</td>\n",
       "    </tr>\n",
       "    <tr>\n",
       "      <th>Sep</th>\n",
       "      <td>340.53</td>\n",
       "      <td>1638.44</td>\n",
       "      <td>4.546845</td>\n",
       "      <td>0.315758</td>\n",
       "    </tr>\n",
       "    <tr>\n",
       "      <th>Oct</th>\n",
       "      <td>341.75</td>\n",
       "      <td>1644.79</td>\n",
       "      <td>4.699021</td>\n",
       "      <td>0.320524</td>\n",
       "    </tr>\n",
       "    <tr>\n",
       "      <th>Nov</th>\n",
       "      <td>342.83</td>\n",
       "      <td>1642.60</td>\n",
       "      <td>4.574850</td>\n",
       "      <td>0.325785</td>\n",
       "    </tr>\n",
       "    <tr>\n",
       "      <th>...</th>\n",
       "      <th>...</th>\n",
       "      <td>...</td>\n",
       "      <td>...</td>\n",
       "      <td>...</td>\n",
       "      <td>...</td>\n",
       "    </tr>\n",
       "    <tr>\n",
       "      <th rowspan=\"5\" valign=\"top\">1991</th>\n",
       "      <th>Jun</th>\n",
       "      <td>356.17</td>\n",
       "      <td>1718.99</td>\n",
       "      <td>4.560109</td>\n",
       "      <td>0.313437</td>\n",
       "    </tr>\n",
       "    <tr>\n",
       "      <th>Jul</th>\n",
       "      <td>354.53</td>\n",
       "      <td>1716.04</td>\n",
       "      <td>4.691643</td>\n",
       "      <td>0.309257</td>\n",
       "    </tr>\n",
       "    <tr>\n",
       "      <th>Aug</th>\n",
       "      <td>353.06</td>\n",
       "      <td>1719.23</td>\n",
       "      <td>4.891350</td>\n",
       "      <td>0.340813</td>\n",
       "    </tr>\n",
       "    <tr>\n",
       "      <th>Sep</th>\n",
       "      <td>352.93</td>\n",
       "      <td>1726.21</td>\n",
       "      <td>4.684678</td>\n",
       "      <td>0.345122</td>\n",
       "    </tr>\n",
       "    <tr>\n",
       "      <th>Oct</th>\n",
       "      <td>354.00</td>\n",
       "      <td>1732.76</td>\n",
       "      <td>5.059727</td>\n",
       "      <td>0.324454</td>\n",
       "    </tr>\n",
       "  </tbody>\n",
       "</table>\n",
       "<p>100 rows × 4 columns</p>\n",
       "</div>"
      ],
      "text/plain": [
       "            co2_average  ch4_average  elec_fossil  elec_clean\n",
       "year month                                                   \n",
       "1983 Jul         342.14      1625.94     4.325726    0.345359\n",
       "     Aug         340.62      1628.06     4.710642    0.338025\n",
       "     Sep         340.53      1638.44     4.546845    0.315758\n",
       "     Oct         341.75      1644.79     4.699021    0.320524\n",
       "     Nov         342.83      1642.60     4.574850    0.325785\n",
       "...                 ...          ...          ...         ...\n",
       "1991 Jun         356.17      1718.99     4.560109    0.313437\n",
       "     Jul         354.53      1716.04     4.691643    0.309257\n",
       "     Aug         353.06      1719.23     4.891350    0.340813\n",
       "     Sep         352.93      1726.21     4.684678    0.345122\n",
       "     Oct         354.00      1732.76     5.059727    0.324454\n",
       "\n",
       "[100 rows x 4 columns]"
      ]
     },
     "execution_count": 9,
     "metadata": {},
     "output_type": "execute_result"
    }
   ],
   "source": [
    "data[['co2_average']].join(data[['ch4_average', 'elec_fossil', 'elec_clean']])"
   ]
  },
  {
   "cell_type": "code",
   "execution_count": 10,
   "id": "8629b050",
   "metadata": {},
   "outputs": [],
   "source": [
    "from multi_anm import M_ANM"
   ]
  },
  {
   "cell_type": "code",
   "execution_count": 11,
   "id": "8eb7c098",
   "metadata": {},
   "outputs": [],
   "source": [
    "manm = M_ANM()"
   ]
  },
  {
   "cell_type": "code",
   "execution_count": 12,
   "id": "b8c146dd",
   "metadata": {},
   "outputs": [
    {
     "name": "stderr",
     "output_type": "stream",
     "text": [
      "/opt/conda/lib/python3.9/site-packages/sklearn/gaussian_process/kernels.py:411: ConvergenceWarning: The optimal value found for dimension 0 of parameter k1__k1__constant_value is close to the specified upper bound 1000.0. Increasing the bound and calling fit again may find a better value.\n",
      "  warnings.warn(\"The optimal value found for \"\n",
      "/opt/conda/lib/python3.9/site-packages/sklearn/gaussian_process/kernels.py:411: ConvergenceWarning: The optimal value found for dimension 0 of parameter k2__noise_level is close to the specified upper bound 10.0. Increasing the bound and calling fit again may find a better value.\n",
      "  warnings.warn(\"The optimal value found for \"\n",
      "/opt/conda/lib/python3.9/site-packages/sklearn/gaussian_process/kernels.py:411: ConvergenceWarning: The optimal value found for dimension 0 of parameter k1__k1__constant_value is close to the specified upper bound 1000.0. Increasing the bound and calling fit again may find a better value.\n",
      "  warnings.warn(\"The optimal value found for \"\n",
      "/opt/conda/lib/python3.9/site-packages/sklearn/gaussian_process/kernels.py:411: ConvergenceWarning: The optimal value found for dimension 0 of parameter k1__k2__length_scale is close to the specified upper bound 100.0. Increasing the bound and calling fit again may find a better value.\n",
      "  warnings.warn(\"The optimal value found for \"\n",
      "/opt/conda/lib/python3.9/site-packages/sklearn/gaussian_process/kernels.py:411: ConvergenceWarning: The optimal value found for dimension 0 of parameter k2__noise_level is close to the specified upper bound 10.0. Increasing the bound and calling fit again may find a better value.\n",
      "  warnings.warn(\"The optimal value found for \"\n"
     ]
    },
    {
     "data": {
      "text/plain": [
       "(0.11268370932054594, 0.2937486509592466)"
      ]
     },
     "execution_count": 12,
     "metadata": {},
     "output_type": "execute_result"
    }
   ],
   "source": [
    "manm.cause_or_effect(data[['co2_average']], data[['petroleum']], data[['ch4_average', 'elec_fossil', 'elec_clean']])"
   ]
  },
  {
   "cell_type": "code",
   "execution_count": null,
   "id": "6e275d87",
   "metadata": {},
   "outputs": [],
   "source": []
  }
 ],
 "metadata": {
  "kernelspec": {
   "display_name": "Python 3 (ipykernel)",
   "language": "python",
   "name": "python3"
  },
  "language_info": {
   "codemirror_mode": {
    "name": "ipython",
    "version": 3
   },
   "file_extension": ".py",
   "mimetype": "text/x-python",
   "name": "python",
   "nbconvert_exporter": "python",
   "pygments_lexer": "ipython3",
   "version": "3.9.5"
  }
 },
 "nbformat": 4,
 "nbformat_minor": 5
}
